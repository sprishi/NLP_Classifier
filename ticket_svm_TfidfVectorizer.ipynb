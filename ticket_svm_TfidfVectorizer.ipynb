{
 "cells": [
  {
   "cell_type": "code",
   "execution_count": 1,
   "metadata": {},
   "outputs": [],
   "source": [
    "import pandas as pd\n",
    "import numpy as np\n",
    "import nltk\n",
    "#nltk.download('punkt')\n",
    "#nltk.download('wordnet')\n",
    "#nltk.download('averaged_perceptron_tagger')\n",
    "#nltk.download('stopwords')\n",
    "from nltk.tokenize import word_tokenize\n",
    "from nltk import pos_tag\n",
    "from nltk.corpus import stopwords\n",
    "from nltk.stem import WordNetLemmatizer\n",
    "from sklearn.preprocessing import LabelEncoder\n",
    "from collections import defaultdict\n",
    "from nltk.corpus import wordnet as wn\n",
    "from sklearn.feature_extraction.text import TfidfVectorizer\n",
    "from sklearn import model_selection, naive_bayes, svm\n",
    "from sklearn.metrics import accuracy_score"
   ]
  },
  {
   "cell_type": "code",
   "execution_count": 2,
   "metadata": {},
   "outputs": [],
   "source": [
    "import os\n",
    "os.chdir(\"C:\\\\Users\\\\subhankar.pattnaik\\\\Downloads\\\\Personal\\AI\\\\Code\\\\ML-AI-DS-master\")"
   ]
  },
  {
   "cell_type": "code",
   "execution_count": 111,
   "metadata": {},
   "outputs": [],
   "source": [
    "#Set Random seed\n",
    "np.random.seed(500)\n",
    "# Add the Data using pandas\n",
    "df = pd.read_csv('data/latest_ticket_data.csv')\n"
   ]
  },
  {
   "cell_type": "code",
   "execution_count": 113,
   "metadata": {
    "scrolled": false
   },
   "outputs": [],
   "source": [
    "# Step - 1: Data Pre-processing - This will help in getting better results through the classification algorithms\n",
    "\n",
    "# Step - 1a : Remove blank rows if any.\n",
    "df['Description'].dropna(inplace=True)\n",
    "\n",
    "# Step - 1b : Change all the text to lower case. This is required as python interprets 'dog' and 'DOG' differently\n",
    "df['Description'] = [entry.lower() for entry in df['Description']]\n",
    "\n",
    "# Step - 1c : Tokenization : In this each entry in the corpus will be broken into set of words\n",
    "df['Description'] = [word_tokenize(entry) for entry in df['Description']]\n"
   ]
  },
  {
   "cell_type": "code",
   "execution_count": null,
   "metadata": {},
   "outputs": [],
   "source": [
    "df['desc_final'] = df['Description'].apply(lambda x: cleaning(x))"
   ]
  },
  {
   "cell_type": "code",
   "execution_count": 7,
   "metadata": {},
   "outputs": [
    {
     "data": {
      "text/plain": [
       "0       [hi, since, recruiter, lead, permission, appro...\n",
       "1       [re, expire, days, hi, ask, help, update, pass...\n",
       "2       [verification, warning, hi, has, got, attached...\n",
       "3       [please, dear, looks, blacklisted, receiving, ...\n",
       "4       [dear, modules, report, report, cost, thank, m...\n",
       "5       [please, action, reports, dear, way, help, clo...\n",
       "6                             [hello, please, fill, date]\n",
       "7       [secondary, hi, please, provide, secondary, le...\n",
       "8       [copy, hi, receive, copy, behavior, expect, re...\n",
       "9       [invitation, strategy, workshop, february, man...\n",
       "10      [change, owner, contract, hello, please, log, ...\n",
       "11      [reports, amended, hello, please, call, best, ...\n",
       "12      [user, accessibility, hello, please, log, assi...\n",
       "13      [re, annual, leave, hello, please, help, absen...\n",
       "14      [change, role, hello, dear, please, change, pm...\n",
       "15      [hello, received, workstation, granted, ad, pl...\n",
       "16      [undelivered, returned, hi, getting, these, un...\n",
       "17      [mailbox, almost, hi, mailbox, almost, kind, t...\n",
       "18      [opportunity, known, pipeline, hi, please, imp...\n",
       "19      [shared, folder, dear, please, assist, creatin...\n",
       "20      [please, action, submit, cards, hi, keep, gett...\n",
       "21      [please, action, submit, cards, hi, queried, t...\n",
       "22      [thursday, february, pm, re, communication, de...\n",
       "23      [starter, form, induction, hi, please, assist,...\n",
       "24      [clone, self, dashboard, hello, writing, ask, ...\n",
       "25      [wants, requesting, hardware, equipment, monit...\n",
       "26      [groups, testing, add, users, needed, owner, t...\n",
       "27      [re, hi, part, sector, owners, right, how, nam...\n",
       "28      [re, lost, card, hello, va, ii, alt, card, se,...\n",
       "29      [leaver, form, leave, date, location, hello, l...\n",
       "                              ...                        \n",
       "2970    [sent, tuesday, printer, hello, printer, jam, ...\n",
       "2971    [sent, tuesday, battery, detected, dear, pleas...\n",
       "2972    [hello, tried, log, phone, have, can, not, tri...\n",
       "2973    [sent, monday, th, floor, printer, hello, we, ...\n",
       "2974    [sent, monday, blackout, hello, we, have, blac...\n",
       "2975    [sent, monday, trouble, connecting, monitor, w...\n",
       "2976    [laptop, very, slow, keep, getting, non, respo...\n",
       "2977    [sent, friday, re, update, hi, computer, crash...\n",
       "2978    [port, working, phone, into, computer, able, b...\n",
       "2979    [sent, thursday, laptop, battery, hi, have, is...\n",
       "2980    [sent, monday, forbidden, software, hi, have, ...\n",
       "2981    [sent, wednesday, list, assets, hello, guys, y...\n",
       "2982    [sent, monday, for, hi, guys, testing, for, fo...\n",
       "2983    [sent, monday, pro, charger, hello, charger, f...\n",
       "2984    [sent, friday, working, issue, hi, having, sim...\n",
       "2985    [sent, friday, re, low, bandwidth, problems, f...\n",
       "2986    [sent, thursday, connections, please, check, c...\n",
       "2987    [sent, laptop, issue, spilled, water, over, ke...\n",
       "2988    [phone, gives, error, parse, error, when, tryi...\n",
       "2989    [sent, tuesday, error, hello, trying, dial, in...\n",
       "2990    [sent, monday, printer, issues, hi, xerox, pri...\n",
       "2991    [sent, tuesday, re, notification, upgrade, la,...\n",
       "2992    [sent, monday, re, sporadically, send, certain...\n",
       "2993    [one, plastic, pieces, covering, hinge, keeps,...\n",
       "2994    [sent, friday, problem, data, aud, si, ca, sa,...\n",
       "2995    [sent, tuesday, feedback, follow, up, conf, ca...\n",
       "2996    [sent, monday, issues, hi, keep, getting, erro...\n",
       "2997    [sent, monday, en, working, properly, hi, guys...\n",
       "2998    [sent, wednesday, july, hi, please, log, incid...\n",
       "2999    [sent, tuesday, july, connection, issues, hell...\n",
       "Name: Description, Length: 3000, dtype: object"
      ]
     },
     "execution_count": 7,
     "metadata": {},
     "output_type": "execute_result"
    }
   ],
   "source": [
    "df['Description']"
   ]
  },
  {
   "cell_type": "code",
   "execution_count": 24,
   "metadata": {},
   "outputs": [],
   "source": [
    "# Step - 1d : Remove Stop words, Non-Numeric and perfom Word Stemming/Lemmenting.\n",
    "\n",
    "# WordNetLemmatizer requires Pos tags to understand if the word is noun or verb or adjective etc. By default it is set to Noun\n",
    "tag_map = defaultdict(lambda : wn.NOUN)\n",
    "tag_map['J'] = wn.ADJ\n",
    "tag_map['V'] = wn.VERB\n",
    "tag_map['R'] = wn.ADV\n",
    "\n",
    "\n",
    "for index,entry in enumerate(df['Description']):\n",
    "    # Declaring Empty List to store the words that follow the rules for this step\n",
    "    Final_words = []\n",
    "    # Initializing WordNetLemmatizer()\n",
    "    word_Lemmatized = WordNetLemmatizer()\n",
    "    # pos_tag function below will provide the 'tag' i.e if the word is Noun(N) or Verb(V) or something else.\n",
    "    for word, tag in pos_tag(entry):\n",
    "        # Below condition is to check for Stop words and consider only alphabets\n",
    "        if word not in stopwords.words('english') and word.isalpha():\n",
    "            word_Final = word_Lemmatized.lemmatize(word,tag_map[tag[0]])\n",
    "            Final_words.append(word_Final)\n",
    "    # The final processed set of words for each iteration will be stored in 'text_final'\n",
    "    df.loc[index,'desc_final'] = str(Final_words)\n",
    "\n",
    "\n"
   ]
  },
  {
   "cell_type": "code",
   "execution_count": 25,
   "metadata": {},
   "outputs": [
    {
     "name": "stdout",
     "output_type": "stream",
     "text": [
      "0    ['hi', 'since', 'recruiter', 'lead', 'permissi...\n",
      "1    ['expire', 'day', 'hi', 'ask', 'help', 'update...\n",
      "2    ['verification', 'warn', 'hi', 'get', 'attach'...\n",
      "3    ['please', 'dear', 'look', 'blacklist', 'recei...\n",
      "4    ['dear', 'module', 'report', 'report', 'cost',...\n",
      "Name: desc_final, dtype: object\n"
     ]
    }
   ],
   "source": [
    "print(df['desc_final'].head())"
   ]
  },
  {
   "cell_type": "code",
   "execution_count": 26,
   "metadata": {},
   "outputs": [],
   "source": [
    "# Step - 2: Split the model into Train and Test Data set\n",
    "Train_X, Test_X, Train_Y, Test_Y = model_selection.train_test_split(df['desc_final'],df['Category'],test_size=0.3)\n",
    "\n",
    "# Step - 3: Label encode the target variable  - This is done to transform Categorical data of string type in the data set into numerical values\n",
    "Encoder = LabelEncoder()\n",
    "Train_Y = Encoder.fit_transform(Train_Y)\n",
    "Test_Y = Encoder.fit_transform(Test_Y)\n",
    "\n",
    "# Step - 4: Vectorize the words by using TF-IDF Vectorizer - This is done to find how important a word in document is in comparison to the corpus\n",
    "Tfidf_vect = TfidfVectorizer(max_features=5000)\n",
    "Tfidf_vect.fit(df['desc_final'])\n",
    "\n",
    "Train_X_Tfidf = Tfidf_vect.transform(Train_X)\n",
    "Test_X_Tfidf = Tfidf_vect.transform(Test_X)\n"
   ]
  },
  {
   "cell_type": "code",
   "execution_count": 35,
   "metadata": {},
   "outputs": [
    {
     "name": "stdout",
     "output_type": "stream",
     "text": [
      "Naive Bayes Accuracy Score ->  72.66666666666667\n"
     ]
    }
   ],
   "source": [
    "# Step - 5: Now we can run different algorithms to classify out data check for accuracy\n",
    "\n",
    "# Classifier - Algorithm - Naive Bayes\n",
    "# fit the training dataset on the classifier\n",
    "Naive = naive_bayes.MultinomialNB()\n",
    "Naive.fit(Train_X_Tfidf,Train_Y)\n",
    "\n",
    "# predict the labels on validation dataset\n",
    "predictions_NB = Naive.predict(Test_X_Tfidf)\n",
    "\n",
    "# Use accuracy_score function to get the accuracy\n",
    "print(\"Naive Bayes Accuracy Score -> \",accuracy_score(predictions_NB, Test_Y)*100)"
   ]
  },
  {
   "cell_type": "code",
   "execution_count": 36,
   "metadata": {},
   "outputs": [
    {
     "name": "stdout",
     "output_type": "stream",
     "text": [
      "SVM Accuracy Score ->  75.0\n"
     ]
    }
   ],
   "source": [
    "# Classifier - Algorithm - SVM\n",
    "# fit the training dataset on the classifier\n",
    "SVM = svm.SVC(C=1.0, kernel='linear', degree=3, gamma='auto')\n",
    "SVM.fit(Train_X_Tfidf,Train_Y)\n",
    "\n",
    "# predict the labels on validation dataset\n",
    "predictions_SVM = SVM.predict(Test_X_Tfidf)\n",
    "\n",
    "# Use accuracy_score function to get the accuracy\n",
    "print(\"SVM Accuracy Score -> \",accuracy_score(predictions_SVM, Test_Y)*100)\n"
   ]
  },
  {
   "cell_type": "code",
   "execution_count": 124,
   "metadata": {},
   "outputs": [],
   "source": [
    "#Test Data\n",
    "df_test = pd.read_csv('data/test.csv')"
   ]
  },
  {
   "cell_type": "code",
   "execution_count": 125,
   "metadata": {},
   "outputs": [],
   "source": [
    "def cleaning(df):\n",
    "    df['Description'].dropna(inplace=True)\n",
    "    df['Description'] = [entry.lower() for entry in df['Description']]\n",
    "    df['Description'] = [word_tokenize(entry) for entry in df['Description']]\n",
    "    for index,entry in enumerate(df['Description']):\n",
    "        Final_words = []\n",
    "        word_Lemmatized = WordNetLemmatizer()\n",
    "        for word, tag in pos_tag(entry):\n",
    "            if word not in stopwords.words('english') and word.isalpha():\n",
    "                word_Final = word_Lemmatized.lemmatize(word,tag_map[tag[0]])\n",
    "                Final_words.append(word_Final)\n",
    "        df.loc[index,'desc_final'] = str(Final_words)\n",
    "    return df\n",
    "\n",
    "def vectorize(df):\n",
    "    return Tfidf_vect.transform(df['desc_final'])"
   ]
  },
  {
   "cell_type": "code",
   "execution_count": null,
   "metadata": {},
   "outputs": [],
   "source": [
    "def cleaning(text):\n",
    "    words = text.spilt()\n",
    "    words = [entry.lower() for entry in words]\n",
    "    "
   ]
  },
  {
   "cell_type": "code",
   "execution_count": 126,
   "metadata": {},
   "outputs": [],
   "source": [
    "df_test = cleaning(df_test)"
   ]
  },
  {
   "cell_type": "code",
   "execution_count": 129,
   "metadata": {},
   "outputs": [],
   "source": [
    "Test_TfIdf = vectorize(df_test)"
   ]
  },
  {
   "cell_type": "code",
   "execution_count": 131,
   "metadata": {},
   "outputs": [
    {
     "data": {
      "text/plain": [
       "array([3])"
      ]
     },
     "execution_count": 131,
     "metadata": {},
     "output_type": "execute_result"
    }
   ],
   "source": [
    "# Naive Bayes\n",
    "Naive.predict(Test_TfIdf)"
   ]
  },
  {
   "cell_type": "code",
   "execution_count": 132,
   "metadata": {},
   "outputs": [
    {
     "data": {
      "text/plain": [
       "array([3])"
      ]
     },
     "execution_count": 132,
     "metadata": {},
     "output_type": "execute_result"
    }
   ],
   "source": [
    "# SVM\n",
    "SVM.predict(Test_TfIdf)"
   ]
  }
 ],
 "metadata": {
  "kernelspec": {
   "display_name": "Python 3",
   "language": "python",
   "name": "python3"
  },
  "language_info": {
   "codemirror_mode": {
    "name": "ipython",
    "version": 3
   },
   "file_extension": ".py",
   "mimetype": "text/x-python",
   "name": "python",
   "nbconvert_exporter": "python",
   "pygments_lexer": "ipython3",
   "version": "3.7.1"
  }
 },
 "nbformat": 4,
 "nbformat_minor": 2
}
